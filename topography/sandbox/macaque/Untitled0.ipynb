{
 "metadata": {
  "name": "",
  "signature": "sha256:97f38b5a4cb8784a3c9f6c35df68276405bd34648124baa53cf5d58c6ecd74ff"
 },
 "nbformat": 3,
 "nbformat_minor": 0,
 "worksheets": []
}